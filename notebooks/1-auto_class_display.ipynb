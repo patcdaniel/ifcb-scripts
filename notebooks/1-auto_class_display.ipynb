{
 "cells": [
  {
   "cell_type": "code",
   "execution_count": 1,
   "id": "equipped-harvey",
   "metadata": {},
   "outputs": [],
   "source": [
    "import matplotlib.pyplot as plt\n",
    "import pandas as pd\n",
    "import seaborn as sns"
   ]
  },
  {
   "cell_type": "code",
   "execution_count": 2,
   "id": "optical-karma",
   "metadata": {},
   "outputs": [
    {
     "data": {
      "text/plain": [
       "(1719, 26)"
      ]
     },
     "execution_count": 2,
     "metadata": {},
     "output_type": "execute_result"
    }
   ],
   "source": [
    "features_url = \"http://128.114.25.154:8888/IFCB104/D20210629T161913_IFCB104_fea_v2.csv\"\n",
    "autoclass_url = \"http://128.114.25.154:8888/IFCB104/D20210629T161913_IFCB104_class_scores.csv\"\n",
    "\n",
    "\n",
    "df_features = pd.read_csv(features_url)\n",
    "df_autoclass = pd.read_csv(autoclass_url) # These are percentage of counts\n",
    "df_features.shape"
   ]
  },
  {
   "cell_type": "code",
   "execution_count": 3,
   "id": "laughing-strength",
   "metadata": {},
   "outputs": [
    {
     "data": {
      "text/plain": [
       "Index(['trigger', 'processingEndTime', 'pmtA', 'pmtB', 'pmtC', 'pmtD', 'peakA',\n",
       "       'peakB', 'peakC', 'peakD', 'timeOfFlight', 'grabTimeStart',\n",
       "       'frameGrabTime', 'bottom', 'left', 'height', 'width', 'byteOffset',\n",
       "       'comparatorOut', 'startPoint', 'signalStrength', 'valveStatus', 'binID',\n",
       "       'pid', 'stitched', 'targetNumber'],\n",
       "      dtype='object')"
      ]
     },
     "execution_count": 3,
     "metadata": {},
     "output_type": "execute_result"
    }
   ],
   "source": [
    "df_features.columns"
   ]
  },
  {
   "cell_type": "code",
   "execution_count": 4,
   "id": "fancy-favor",
   "metadata": {},
   "outputs": [
    {
     "data": {
      "text/html": [
       "<div>\n",
       "<style scoped>\n",
       "    .dataframe tbody tr th:only-of-type {\n",
       "        vertical-align: middle;\n",
       "    }\n",
       "\n",
       "    .dataframe tbody tr th {\n",
       "        vertical-align: top;\n",
       "    }\n",
       "\n",
       "    .dataframe thead th {\n",
       "        text-align: right;\n",
       "    }\n",
       "</style>\n",
       "<table border=\"1\" class=\"dataframe\">\n",
       "  <thead>\n",
       "    <tr style=\"text-align: right;\">\n",
       "      <th></th>\n",
       "      <th>class</th>\n",
       "      <th>counts</th>\n",
       "    </tr>\n",
       "  </thead>\n",
       "  <tbody>\n",
       "    <tr>\n",
       "      <th>3</th>\n",
       "      <td>Pseudo-nitzschia</td>\n",
       "      <td>0</td>\n",
       "    </tr>\n",
       "    <tr>\n",
       "      <th>4</th>\n",
       "      <td>Prorocentrum</td>\n",
       "      <td>0</td>\n",
       "    </tr>\n",
       "    <tr>\n",
       "      <th>5</th>\n",
       "      <td>Lingulodinium</td>\n",
       "      <td>0</td>\n",
       "    </tr>\n",
       "    <tr>\n",
       "      <th>6</th>\n",
       "      <td>Guin_Dact</td>\n",
       "      <td>0</td>\n",
       "    </tr>\n",
       "    <tr>\n",
       "      <th>7</th>\n",
       "      <td>Dinophysis</td>\n",
       "      <td>0</td>\n",
       "    </tr>\n",
       "  </tbody>\n",
       "</table>\n",
       "</div>"
      ],
      "text/plain": [
       "              class  counts\n",
       "3  Pseudo-nitzschia       0\n",
       "4      Prorocentrum       0\n",
       "5     Lingulodinium       0\n",
       "6         Guin_Dact       0\n",
       "7        Dinophysis       0"
      ]
     },
     "execution_count": 4,
     "metadata": {},
     "output_type": "execute_result"
    }
   ],
   "source": [
    "totals = df_autoclass.apply(lambda x: x == df_autoclass.max(axis=1)).sum()\n",
    "totals = totals.reset_index(name='counts')\n",
    "totals = totals.rename(columns={'index':'class'})\n",
    "totals = totals.sort_values(['counts']).reset_index(drop=True)\n",
    "totals = totals.drop(totals[totals['class'].isin([\"pid\", \"Skeletonema\",\t\"Thalassionema\", \"Thalassiosira\", \"unclassified\"])].index)\n",
    "totals.head()"
   ]
  },
  {
   "cell_type": "code",
   "execution_count": 9,
   "id": "gross-arrival",
   "metadata": {},
   "outputs": [
    {
     "data": {
      "text/plain": [
       "Text(0.5, 1.0, 'Total Detections: 1719')"
      ]
     },
     "execution_count": 9,
     "metadata": {},
     "output_type": "execute_result"
    },
    {
     "data": {
      "image/png": "[encoded data removed]",
      "text/plain": [
       "<Figure size 432x288 with 1 Axes>"
      ]
     },
     "metadata": {
      "needs_background": "light"
     },
     "output_type": "display_data"
    }
   ],
   "source": [
    "ax = sns.barplot(x=\"class\", y=\"counts\", data=totals,  palette=\"Blues_d\",edgecolor=\".2\");\n",
    "plt.xticks(rotation=90, ha='center');\n",
    "plt.title(\"Total Detections: {}\".format(df_features.shape[0]))"
   ]
  },
  {
   "cell_type": "code",
   "execution_count": null,
   "id": "incorrect-homeless",
   "metadata": {},
   "outputs": [],
   "source": []
  }
 ],
 "metadata": {
  "kernelspec": {
   "display_name": "Python 3",
   "language": "python",
   "name": "python3"
  },
  "language_info": {
   "codemirror_mode": {
    "name": "ipython",
    "version": 3
   },
   "file_extension": ".py",
   "mimetype": "text/x-python",
   "name": "python",
   "nbconvert_exporter": "python",
   "pygments_lexer": "ipython3",
   "version": "3.8.5"
  }
 },
 "nbformat": 4,
 "nbformat_minor": 5
}
