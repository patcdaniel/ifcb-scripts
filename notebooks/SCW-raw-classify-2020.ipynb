{
 "cells": [
  {
   "cell_type": "code",
   "execution_count": 1,
   "id": "8b707a94",
   "metadata": {},
   "outputs": [],
   "source": [
    "# import sys\n",
    "# sys.path.insert(0, '..')\n",
    "# from ClassifyDashboard.mClassifier import ClassifyDashboard\n",
    "import tensorflow as tf\n",
    "import keras_preprocessing.image as keras_img\n",
    "import numpy as np\n",
    "import glob\n",
    "import tensorflow_addons as tfa\n",
    "import pandas as pd\n",
    "import json\n",
    "import ifcb\n",
    "from PIL import Image\n",
    "from tqdm import tqdm\n",
    "import os\n",
    "import datetime as dt"
   ]
  },
  {
   "cell_type": "code",
   "execution_count": 2,
   "id": "54efa93d-5f31-4153-bc67-3da6efbb0f5f",
   "metadata": {},
   "outputs": [],
   "source": [
    "# %load_ext line_profiler"
   ]
  },
  {
   "cell_type": "code",
   "execution_count": 9,
   "id": "2639ac9f",
   "metadata": {},
   "outputs": [],
   "source": [
    "class ClassifyDashboard:\n",
    "    def __init__(self):\n",
    "        self.ifcb = \"Tina\"\n",
    "        self.baseDir =  \"/u/pdaniel/ifcb-scripts/\"\n",
    "        self.model = self.load_model()\n",
    "        self.classes = self.load_class_labels()\n",
    "\n",
    "\n",
    "    def load_model(self):\n",
    "        \"\"\" Load Model off of google drive \"\"\"\n",
    "        model_dir = \"../classifier/ifcb-xception/\"\n",
    "        return tf.keras.models.load_model(model_dir)\n",
    "\n",
    "    \n",
    "    def load_class_labels(self):\n",
    "        \"\"\" Load dict of class lables \"\"\"\n",
    "        label_dir = \"../classifier/xception-class-label.json\"\n",
    "        with open(label_dir) as json_file:\n",
    "            return json.load(json_file)\n",
    "    \n",
    "    \n",
    "    def generate_image_list(self):\n",
    "        \"\"\"Generate a list of ROI files to read image data from\"\"\"\n",
    "        fnames = glob.glob(\"/opt/ifcb-data/sc-wharf/{}/*.roi\".format(self.folder))\n",
    "        return fnames\n",
    "\n",
    "    \n",
    "    def prep_image(self, image):\n",
    "        \"\"\"Load and prep images for model, reshape and normalize rgb to greyscale\"\"\"\n",
    "        target_size=(224,224)\n",
    "        img = keras_img.img_to_array(Image.fromarray(image).resize(target_size))\n",
    "        img /= 255\n",
    "        img = img.reshape((1, img.shape[0], img.shape[1], img.shape[2]))\n",
    "        return img\n",
    "\n",
    "    \n",
    "    def build_image_stack(self, fname):\n",
    "        \"\"\" Given a URL, get the zip file and unzip the images into a images stack for the model to read \"\"\"\n",
    "        with ifcb.open_raw(fname) as roi_data:\n",
    "            array_index = 0\n",
    "            roi_names = []\n",
    "            img_stack = np.empty(shape=(len(roi_data.images),224,224,3))\n",
    "            for roi_num, img_data in roi_data.images.items():\n",
    "                img_stack[array_index,:,:,:] = self.prep_image(img_data)\n",
    "                array_index += 1\n",
    "                roi_names.append(roi_num)\n",
    "                \n",
    "        return img_stack, roi_names\n",
    "\n",
    "    \n",
    "    def get_label(self, sample_value, labels):\n",
    "        \"\"\" Helper function to get the label from the class index\"\"\"\n",
    "        for label, value in labels.items():  # for name, age in dictionary.iteritems():  (for Python 2.x)\n",
    "            if value == sample_value:\n",
    "                return(label)\n",
    "\n",
    "    def run_model(self, image_stack, i):\n",
    "        \"\"\"Classify the image stack\"\"\"\n",
    "        yhat = self.model.predict(image_stack[0])\n",
    "        self.processing_results(yhat,i)\n",
    "\n",
    "    def processing_results(self, yhat, i):\n",
    "        \"\"\" Covert classifications into counts for each timestep \"\"\"\n",
    "        headers = list(self.classes.keys())\n",
    "        df = pd.DataFrame(data=yhat,columns=headers)\n",
    "        totals = df.apply(lambda x: x == df.max(axis=1)).sum().values\n",
    "        self.classData[i,:] = totals\n",
    "        \n",
    "    def str_to_dt(self, datetime_str):\n",
    "            return pd.to_datetime(datetime_str[1:])\n",
    "    \n",
    "    def add_datetime(self, fnames):\n",
    "        \"\"\" Get sample times from based on the file names \"\"\"\n",
    "        self.output['dateTime'] = [self.str_to_dt(os.path.basename(f).split(\"_\")[0]) for f in fnames]\n",
    "\n",
    "    def add_metadata(self, fnames):\n",
    "        \"\"\"Add header data from syringe sample\"\"\"\n",
    "        self.output[[\"inhibitTime\",\"runTime\",\"syringeSize\",'fileName']] = \"\"\n",
    "        inhibitTime = []\n",
    "        runTime = []\n",
    "        syringeSize = []\n",
    "        fileName = []\n",
    "        for fname in fnames:\n",
    "            with ifcb.open_raw(fname) as roi_data:\n",
    "                header = roi_data.headers\n",
    "                inhibitTime.append(header[\"inhibitTime\"])\n",
    "                runTime.append(header[\"runTime\"])\n",
    "                syringeSize.append(header[\"syringeSize\"])\n",
    "                fileName.append(os.path.basename(fname))\n",
    "\n",
    "        self.output['runTime'] = runTime\n",
    "        self.output['inhibitTime'] = inhibitTime\n",
    "        self.output['syringeSize'] = syringeSize\n",
    "        self.output['fileName'] = fileName\n",
    "            \n",
    "    def save_data(self,fname=None):\n",
    "        \"\"\"Save pandas dataframe \"\"\"\n",
    "        if fname is None:\n",
    "            #Create a filename based on datarange\n",
    "            pass\n",
    "        else:\n",
    "            out_name = fname\n",
    "        self.output.to_csv(os.path.join(self.baseDir,\"data/\",fname),index=False)\n",
    "\n",
    "    def run(self, folder=\"\", last_file=None, save_output=False):\n",
    "        \"\"\" Main loop for running the model on all of the data \"\"\"\n",
    "        self.folder = folder\n",
    "        self.roi_fnames = self.generate_image_list()\n",
    "        self.classData = np.empty((len(self.roi_fnames),50)) # preallocate the totals for each sample\n",
    "\n",
    "        for i, fname in tqdm(enumerate(self.roi_fnames)):\n",
    "            img_stack = self.build_image_stack(fname)\n",
    "            self.run_model(img_stack,i)\n",
    "\n",
    "        self.output = pd.DataFrame(data=self.classData, columns=self.classes)\n",
    "        self.add_datetime(self.roi_fnames)\n",
    "        self.add_metadata(self.roi_fnames)\n",
    "        if last_file is not None:\n",
    "            self.output = pd.concat((old_data, self.output))\n",
    "            \n",
    "        if save_output:\n",
    "            out_filename = \"classified_\" + self.output.iloc[-1].fileName.split(\".\")[0] + \".csv\"\n",
    "            self.save_data(out_filename)\n"
   ]
  },
  {
   "cell_type": "code",
   "execution_count": 10,
   "id": "d404caa7",
   "metadata": {},
   "outputs": [],
   "source": [
    "classifier = ClassifyDashboard()"
   ]
  },
  {
   "cell_type": "code",
   "execution_count": 34,
   "id": "3f4ff1ed",
   "metadata": {},
   "outputs": [
    {
     "name": "stderr",
     "output_type": "stream",
     "text": [
      "5it [03:53, 46.65s/it]\n",
      "59it [41:42, 42.41s/it]\n",
      "61it [41:49, 41.15s/it]\n",
      "60it [44:46, 44.78s/it]\n",
      "61it [45:26, 44.70s/it]\n",
      "60it [40:31, 40.53s/it]\n",
      "8it [05:23, 40.39s/it]\n"
     ]
    },
    {
     "ename": "ValueError",
     "evalue": "cannot reshape array of size 32986 into shape (170,392)",
     "output_type": "error",
     "traceback": [
      "\u001b[0;31m---------------------------------------------------------------------------\u001b[0m",
      "\u001b[0;31mValueError\u001b[0m                                Traceback (most recent call last)",
      "\u001b[0;32m<ipython-input-34-dcd090ac37db>\u001b[0m in \u001b[0;36m<module>\u001b[0;34m\u001b[0m\n\u001b[1;32m      2\u001b[0m \u001b[0;32mfor\u001b[0m \u001b[0mfolder\u001b[0m \u001b[0;32min\u001b[0m \u001b[0mfolders\u001b[0m\u001b[0;34m:\u001b[0m\u001b[0;34m\u001b[0m\u001b[0;34m\u001b[0m\u001b[0m\n\u001b[1;32m      3\u001b[0m     \u001b[0mfolder\u001b[0m \u001b[0;34m=\u001b[0m \u001b[0mos\u001b[0m\u001b[0;34m.\u001b[0m\u001b[0mpath\u001b[0m\u001b[0;34m.\u001b[0m\u001b[0msplit\u001b[0m\u001b[0;34m(\u001b[0m\u001b[0mfolder\u001b[0m\u001b[0;34m)\u001b[0m\u001b[0;34m[\u001b[0m\u001b[0;34m-\u001b[0m\u001b[0;36m1\u001b[0m\u001b[0;34m]\u001b[0m\u001b[0;34m\u001b[0m\u001b[0;34m\u001b[0m\u001b[0m\n\u001b[0;32m----> 4\u001b[0;31m     \u001b[0mclassifier\u001b[0m\u001b[0;34m.\u001b[0m\u001b[0mrun\u001b[0m\u001b[0;34m(\u001b[0m\u001b[0mfolder\u001b[0m\u001b[0;34m)\u001b[0m\u001b[0;34m\u001b[0m\u001b[0;34m\u001b[0m\u001b[0m\n\u001b[0m\u001b[1;32m      5\u001b[0m     \u001b[0mclassifier\u001b[0m\u001b[0;34m.\u001b[0m\u001b[0moutput\u001b[0m\u001b[0;34m.\u001b[0m\u001b[0mto_csv\u001b[0m\u001b[0;34m(\u001b[0m\u001b[0;34m\"{}-class.csv\"\u001b[0m\u001b[0;34m.\u001b[0m\u001b[0mformat\u001b[0m\u001b[0;34m(\u001b[0m\u001b[0mfolder\u001b[0m\u001b[0;34m)\u001b[0m\u001b[0;34m)\u001b[0m\u001b[0;34m\u001b[0m\u001b[0;34m\u001b[0m\u001b[0m\n",
      "\u001b[0;32m<ipython-input-9-66048bc452e8>\u001b[0m in \u001b[0;36mrun\u001b[0;34m(self, folder, last_file, save_output)\u001b[0m\n\u001b[1;32m    110\u001b[0m \u001b[0;34m\u001b[0m\u001b[0m\n\u001b[1;32m    111\u001b[0m         \u001b[0;32mfor\u001b[0m \u001b[0mi\u001b[0m\u001b[0;34m,\u001b[0m \u001b[0mfname\u001b[0m \u001b[0;32min\u001b[0m \u001b[0mtqdm\u001b[0m\u001b[0;34m(\u001b[0m\u001b[0menumerate\u001b[0m\u001b[0;34m(\u001b[0m\u001b[0mself\u001b[0m\u001b[0;34m.\u001b[0m\u001b[0mroi_fnames\u001b[0m\u001b[0;34m)\u001b[0m\u001b[0;34m)\u001b[0m\u001b[0;34m:\u001b[0m\u001b[0;34m\u001b[0m\u001b[0;34m\u001b[0m\u001b[0m\n\u001b[0;32m--> 112\u001b[0;31m             \u001b[0mimg_stack\u001b[0m \u001b[0;34m=\u001b[0m \u001b[0mself\u001b[0m\u001b[0;34m.\u001b[0m\u001b[0mbuild_image_stack\u001b[0m\u001b[0;34m(\u001b[0m\u001b[0mfname\u001b[0m\u001b[0;34m)\u001b[0m\u001b[0;34m\u001b[0m\u001b[0;34m\u001b[0m\u001b[0m\n\u001b[0m\u001b[1;32m    113\u001b[0m             \u001b[0mself\u001b[0m\u001b[0;34m.\u001b[0m\u001b[0mrun_model\u001b[0m\u001b[0;34m(\u001b[0m\u001b[0mimg_stack\u001b[0m\u001b[0;34m,\u001b[0m\u001b[0mi\u001b[0m\u001b[0;34m)\u001b[0m\u001b[0;34m\u001b[0m\u001b[0;34m\u001b[0m\u001b[0m\n\u001b[1;32m    114\u001b[0m \u001b[0;34m\u001b[0m\u001b[0m\n",
      "\u001b[0;32m<ipython-input-9-66048bc452e8>\u001b[0m in \u001b[0;36mbuild_image_stack\u001b[0;34m(self, fname)\u001b[0m\n\u001b[1;32m     41\u001b[0m             \u001b[0mroi_names\u001b[0m \u001b[0;34m=\u001b[0m \u001b[0;34m[\u001b[0m\u001b[0;34m]\u001b[0m\u001b[0;34m\u001b[0m\u001b[0;34m\u001b[0m\u001b[0m\n\u001b[1;32m     42\u001b[0m             \u001b[0mimg_stack\u001b[0m \u001b[0;34m=\u001b[0m \u001b[0mnp\u001b[0m\u001b[0;34m.\u001b[0m\u001b[0mempty\u001b[0m\u001b[0;34m(\u001b[0m\u001b[0mshape\u001b[0m\u001b[0;34m=\u001b[0m\u001b[0;34m(\u001b[0m\u001b[0mlen\u001b[0m\u001b[0;34m(\u001b[0m\u001b[0mroi_data\u001b[0m\u001b[0;34m.\u001b[0m\u001b[0mimages\u001b[0m\u001b[0;34m)\u001b[0m\u001b[0;34m,\u001b[0m\u001b[0;36m224\u001b[0m\u001b[0;34m,\u001b[0m\u001b[0;36m224\u001b[0m\u001b[0;34m,\u001b[0m\u001b[0;36m3\u001b[0m\u001b[0;34m)\u001b[0m\u001b[0;34m)\u001b[0m\u001b[0;34m\u001b[0m\u001b[0;34m\u001b[0m\u001b[0m\n\u001b[0;32m---> 43\u001b[0;31m             \u001b[0;32mfor\u001b[0m \u001b[0mroi_num\u001b[0m\u001b[0;34m,\u001b[0m \u001b[0mimg_data\u001b[0m \u001b[0;32min\u001b[0m \u001b[0mroi_data\u001b[0m\u001b[0;34m.\u001b[0m\u001b[0mimages\u001b[0m\u001b[0;34m.\u001b[0m\u001b[0mitems\u001b[0m\u001b[0;34m(\u001b[0m\u001b[0;34m)\u001b[0m\u001b[0;34m:\u001b[0m\u001b[0;34m\u001b[0m\u001b[0;34m\u001b[0m\u001b[0m\n\u001b[0m\u001b[1;32m     44\u001b[0m                 \u001b[0mimg_stack\u001b[0m\u001b[0;34m[\u001b[0m\u001b[0marray_index\u001b[0m\u001b[0;34m,\u001b[0m\u001b[0;34m:\u001b[0m\u001b[0;34m,\u001b[0m\u001b[0;34m:\u001b[0m\u001b[0;34m,\u001b[0m\u001b[0;34m:\u001b[0m\u001b[0;34m]\u001b[0m \u001b[0;34m=\u001b[0m \u001b[0mself\u001b[0m\u001b[0;34m.\u001b[0m\u001b[0mprep_image\u001b[0m\u001b[0;34m(\u001b[0m\u001b[0mimg_data\u001b[0m\u001b[0;34m)\u001b[0m\u001b[0;34m\u001b[0m\u001b[0;34m\u001b[0m\u001b[0m\n\u001b[1;32m     45\u001b[0m                 \u001b[0marray_index\u001b[0m \u001b[0;34m+=\u001b[0m \u001b[0;36m1\u001b[0m\u001b[0;34m\u001b[0m\u001b[0;34m\u001b[0m\u001b[0m\n",
      "\u001b[0;32m~/anaconda3/lib/python3.8/site-packages/pyifcb-0.0.1-py3.8.egg/ifcb/data/utils.py\u001b[0m in \u001b[0;36mitems\u001b[0;34m(self)\u001b[0m\n\u001b[1;32m     67\u001b[0m         \"\"\"\n\u001b[1;32m     68\u001b[0m         \u001b[0;32mfor\u001b[0m \u001b[0mk\u001b[0m \u001b[0;32min\u001b[0m \u001b[0mself\u001b[0m\u001b[0;34m.\u001b[0m\u001b[0mkeys\u001b[0m\u001b[0;34m(\u001b[0m\u001b[0;34m)\u001b[0m\u001b[0;34m:\u001b[0m\u001b[0;34m\u001b[0m\u001b[0;34m\u001b[0m\u001b[0m\n\u001b[0;32m---> 69\u001b[0;31m             \u001b[0;32myield\u001b[0m \u001b[0mk\u001b[0m\u001b[0;34m,\u001b[0m \u001b[0mself\u001b[0m\u001b[0;34m[\u001b[0m\u001b[0mk\u001b[0m\u001b[0;34m]\u001b[0m\u001b[0;34m\u001b[0m\u001b[0;34m\u001b[0m\u001b[0m\n\u001b[0m\u001b[1;32m     70\u001b[0m     \u001b[0;32mdef\u001b[0m \u001b[0mvalues\u001b[0m\u001b[0;34m(\u001b[0m\u001b[0mself\u001b[0m\u001b[0;34m)\u001b[0m\u001b[0;34m:\u001b[0m\u001b[0;34m\u001b[0m\u001b[0;34m\u001b[0m\u001b[0m\n\u001b[1;32m     71\u001b[0m         \"\"\"\n",
      "\u001b[0;32m~/anaconda3/lib/python3.8/site-packages/pyifcb-0.0.1-py3.8.egg/ifcb/data/roi.py\u001b[0m in \u001b[0;36m__getitem__\u001b[0;34m(self, roi_number)\u001b[0m\n\u001b[1;32m    142\u001b[0m         \u001b[0;32mreturn\u001b[0m \u001b[0mk\u001b[0m \u001b[0;32min\u001b[0m \u001b[0mself\u001b[0m\u001b[0;34m.\u001b[0m\u001b[0mkeys\u001b[0m\u001b[0;34m(\u001b[0m\u001b[0;34m)\u001b[0m\u001b[0;34m\u001b[0m\u001b[0;34m\u001b[0m\u001b[0m\n\u001b[1;32m    143\u001b[0m     \u001b[0;32mdef\u001b[0m \u001b[0m__getitem__\u001b[0m\u001b[0;34m(\u001b[0m\u001b[0mself\u001b[0m\u001b[0;34m,\u001b[0m \u001b[0mroi_number\u001b[0m\u001b[0;34m)\u001b[0m\u001b[0;34m:\u001b[0m\u001b[0;34m\u001b[0m\u001b[0;34m\u001b[0m\u001b[0m\n\u001b[0;32m--> 144\u001b[0;31m         \u001b[0;32mreturn\u001b[0m \u001b[0mself\u001b[0m\u001b[0;34m.\u001b[0m\u001b[0mget_image\u001b[0m\u001b[0;34m(\u001b[0m\u001b[0mroi_number\u001b[0m\u001b[0;34m)\u001b[0m\u001b[0;34m\u001b[0m\u001b[0;34m\u001b[0m\u001b[0m\n\u001b[0m\u001b[1;32m    145\u001b[0m     \u001b[0;32mdef\u001b[0m \u001b[0mto_dict\u001b[0m\u001b[0;34m(\u001b[0m\u001b[0mself\u001b[0m\u001b[0;34m)\u001b[0m\u001b[0;34m:\u001b[0m\u001b[0;34m\u001b[0m\u001b[0;34m\u001b[0m\u001b[0m\n\u001b[1;32m    146\u001b[0m         \"\"\"\n",
      "\u001b[0;32m~/anaconda3/lib/python3.8/site-packages/pyifcb-0.0.1-py3.8.egg/ifcb/data/roi.py\u001b[0m in \u001b[0;36mget_image\u001b[0;34m(self, roi_number)\u001b[0m\n\u001b[1;32m    126\u001b[0m                 \u001b[0mself\u001b[0m\u001b[0;34m.\u001b[0m\u001b[0mclose\u001b[0m\u001b[0;34m(\u001b[0m\u001b[0;34m)\u001b[0m\u001b[0;34m\u001b[0m\u001b[0;34m\u001b[0m\u001b[0m\n\u001b[1;32m    127\u001b[0m         \u001b[0;32melse\u001b[0m\u001b[0;34m:\u001b[0m\u001b[0;34m\u001b[0m\u001b[0;34m\u001b[0m\u001b[0m\n\u001b[0;32m--> 128\u001b[0;31m             \u001b[0mim\u001b[0m \u001b[0;34m=\u001b[0m \u001b[0mread_image\u001b[0m\u001b[0;34m(\u001b[0m\u001b[0mself\u001b[0m\u001b[0;34m.\u001b[0m\u001b[0m_inroi\u001b[0m\u001b[0;34m,\u001b[0m \u001b[0mbo\u001b[0m\u001b[0;34m,\u001b[0m \u001b[0mheight\u001b[0m\u001b[0;34m,\u001b[0m \u001b[0mwidth\u001b[0m\u001b[0;34m)\u001b[0m\u001b[0;34m\u001b[0m\u001b[0;34m\u001b[0m\u001b[0m\n\u001b[0m\u001b[1;32m    129\u001b[0m         \u001b[0;32mreturn\u001b[0m \u001b[0mim\u001b[0m\u001b[0;34m\u001b[0m\u001b[0;34m\u001b[0m\u001b[0m\n\u001b[1;32m    130\u001b[0m     \u001b[0;32mdef\u001b[0m \u001b[0m__len__\u001b[0m\u001b[0;34m(\u001b[0m\u001b[0mself\u001b[0m\u001b[0;34m)\u001b[0m\u001b[0;34m:\u001b[0m\u001b[0;34m\u001b[0m\u001b[0;34m\u001b[0m\u001b[0m\n",
      "\u001b[0;32m~/anaconda3/lib/python3.8/site-packages/pyifcb-0.0.1-py3.8.egg/ifcb/data/roi.py\u001b[0m in \u001b[0;36mread_image\u001b[0;34m(inroi, byte_offset, width, height)\u001b[0m\n\u001b[1;32m     25\u001b[0m     \u001b[0minroi\u001b[0m\u001b[0;34m.\u001b[0m\u001b[0mseek\u001b[0m\u001b[0;34m(\u001b[0m\u001b[0mbyte_offset\u001b[0m\u001b[0;34m)\u001b[0m\u001b[0;34m\u001b[0m\u001b[0;34m\u001b[0m\u001b[0m\n\u001b[1;32m     26\u001b[0m     \u001b[0mpixel_values\u001b[0m \u001b[0;34m=\u001b[0m \u001b[0minroi\u001b[0m\u001b[0;34m.\u001b[0m\u001b[0mread\u001b[0m\u001b[0;34m(\u001b[0m\u001b[0mlength\u001b[0m\u001b[0;34m)\u001b[0m\u001b[0;34m\u001b[0m\u001b[0;34m\u001b[0m\u001b[0m\n\u001b[0;32m---> 27\u001b[0;31m     \u001b[0;32mreturn\u001b[0m \u001b[0mnp\u001b[0m\u001b[0;34m.\u001b[0m\u001b[0mfrombuffer\u001b[0m\u001b[0;34m(\u001b[0m\u001b[0mpixel_values\u001b[0m\u001b[0;34m,\u001b[0m \u001b[0mdtype\u001b[0m\u001b[0;34m=\u001b[0m\u001b[0mnp\u001b[0m\u001b[0;34m.\u001b[0m\u001b[0muint8\u001b[0m\u001b[0;34m)\u001b[0m\u001b[0;34m.\u001b[0m\u001b[0mreshape\u001b[0m\u001b[0;34m(\u001b[0m\u001b[0;34m(\u001b[0m\u001b[0mwidth\u001b[0m\u001b[0;34m,\u001b[0m\u001b[0mheight\u001b[0m\u001b[0;34m)\u001b[0m\u001b[0;34m)\u001b[0m\u001b[0;34m\u001b[0m\u001b[0;34m\u001b[0m\u001b[0m\n\u001b[0m\u001b[1;32m     28\u001b[0m \u001b[0;34m\u001b[0m\u001b[0m\n\u001b[1;32m     29\u001b[0m \u001b[0;32mclass\u001b[0m \u001b[0mRoiFile\u001b[0m\u001b[0;34m(\u001b[0m\u001b[0mBaseDictlike\u001b[0m\u001b[0;34m)\u001b[0m\u001b[0;34m:\u001b[0m\u001b[0;34m\u001b[0m\u001b[0;34m\u001b[0m\u001b[0m\n",
      "\u001b[0;31mValueError\u001b[0m: cannot reshape array of size 32986 into shape (170,392)"
     ]
    }
   ],
   "source": [
    "folders = sorted(glob.glob(\"/opt/ifcb-data/sc-wharf/*\"))\n",
    "for folder in folders:\n",
    "    folder = os.path.split(folder)[-1]\n",
    "    classifier.run(folder)\n",
    "    classifier.output.to_csv(\"{}-class.csv\".format(folder))"
   ]
  },
  {
   "cell_type": "code",
   "execution_count": 32,
   "id": "d26c9fa4",
   "metadata": {},
   "outputs": [
    {
     "data": {
      "text/plain": [
       "'D20200423'"
      ]
     },
     "execution_count": 32,
     "metadata": {},
     "output_type": "execute_result"
    }
   ],
   "source": [
    "os.path.split(folders[0])[-1]\n",
    "# !ls /opt/ifcb-data/sc-wharf/"
   ]
  },
  {
   "cell_type": "code",
   "execution_count": null,
   "id": "92a21a70",
   "metadata": {},
   "outputs": [],
   "source": []
  },
  {
   "cell_type": "code",
   "execution_count": null,
   "id": "d433c308-1fb3-4359-a3c3-a9a3afcc24c0",
   "metadata": {},
   "outputs": [],
   "source": []
  }
 ],
 "metadata": {
  "kernelspec": {
   "display_name": "Python 3",
   "language": "python",
   "name": "python3"
  },
  "language_info": {
   "codemirror_mode": {
    "name": "ipython",
    "version": 3
   },
   "file_extension": ".py",
   "mimetype": "text/x-python",
   "name": "python",
   "nbconvert_exporter": "python",
   "pygments_lexer": "ipython3",
   "version": "3.8.8"
  }
 },
 "nbformat": 4,
 "nbformat_minor": 5
}
