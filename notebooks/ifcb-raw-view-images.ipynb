{
 "cells": [
  {
   "cell_type": "code",
   "execution_count": 1,
   "metadata": {},
   "outputs": [],
   "source": [
    "import ifcb, glob, os,zipfile"
   ]
  },
  {
   "cell_type": "code",
   "execution_count": 25,
   "metadata": {},
   "outputs": [
    {
     "data": {
      "text/plain": [
       "['/opt/ifcb-data/power-buoy-deployment/D20220404T194158_IFCB161.roi',\n",
       " '/opt/ifcb-data/power-buoy-deployment/D20220404T194921_IFCB161.roi',\n",
       " '/opt/ifcb-data/power-buoy-deployment/D20220404T195644_IFCB161.roi',\n",
       " '/opt/ifcb-data/power-buoy-deployment/D20220404T200407_IFCB161.roi',\n",
       " '/opt/ifcb-data/power-buoy-deployment/D20220404T201130_IFCB161.roi',\n",
       " '/opt/ifcb-data/power-buoy-deployment/D20220404T201853_IFCB161.roi',\n",
       " '/opt/ifcb-data/power-buoy-deployment/D20220404T202616_IFCB161.roi',\n",
       " '/opt/ifcb-data/power-buoy-deployment/D20220404T203339_IFCB161.roi',\n",
       " '/opt/ifcb-data/power-buoy-deployment/D20220404T204102_IFCB161.roi',\n",
       " '/opt/ifcb-data/power-buoy-deployment/D20220404T204825_IFCB161.roi',\n",
       " '/opt/ifcb-data/power-buoy-deployment/D20220404T205548_IFCB161.roi',\n",
       " '/opt/ifcb-data/power-buoy-deployment/D20220404T210311_IFCB161.roi',\n",
       " '/opt/ifcb-data/power-buoy-deployment/D20220404T211034_IFCB161.roi',\n",
       " '/opt/ifcb-data/power-buoy-deployment/D20220404T211757_IFCB161.roi',\n",
       " '/opt/ifcb-data/power-buoy-deployment/D20220404T212520_IFCB161.roi',\n",
       " '/opt/ifcb-data/power-buoy-deployment/D20220404T213243_IFCB161.roi',\n",
       " '/opt/ifcb-data/power-buoy-deployment/D20220404T214007_IFCB161.roi',\n",
       " '/opt/ifcb-data/power-buoy-deployment/D20220404T214730_IFCB161.roi',\n",
       " '/opt/ifcb-data/power-buoy-deployment/D20220404T215453_IFCB161.roi',\n",
       " '/opt/ifcb-data/power-buoy-deployment/D20220404T220216_IFCB161.roi',\n",
       " '/opt/ifcb-data/power-buoy-deployment/D20220404T220939_IFCB161.roi',\n",
       " '/opt/ifcb-data/power-buoy-deployment/D20220404T221702_IFCB161.roi',\n",
       " '/opt/ifcb-data/power-buoy-deployment/D20220404T222425_IFCB161.roi',\n",
       " '/opt/ifcb-data/power-buoy-deployment/D20220404T223148_IFCB161.roi',\n",
       " '/opt/ifcb-data/power-buoy-deployment/D20220404T223911_IFCB161.roi',\n",
       " '/opt/ifcb-data/power-buoy-deployment/D20220404T224634_IFCB161.roi',\n",
       " '/opt/ifcb-data/power-buoy-deployment/D20220404T225357_IFCB161.roi',\n",
       " '/opt/ifcb-data/power-buoy-deployment/D20220404T230120_IFCB161.roi',\n",
       " '/opt/ifcb-data/power-buoy-deployment/D20220404T230843_IFCB161.roi',\n",
       " '/opt/ifcb-data/power-buoy-deployment/D20220404T231606_IFCB161.roi',\n",
       " '/opt/ifcb-data/power-buoy-deployment/D20220404T232329_IFCB161.roi',\n",
       " '/opt/ifcb-data/power-buoy-deployment/D20220404T233052_IFCB161.roi',\n",
       " '/opt/ifcb-data/power-buoy-deployment/D20220404T233815_IFCB161.roi',\n",
       " '/opt/ifcb-data/power-buoy-deployment/D20220404T234538_IFCB161.roi',\n",
       " '/opt/ifcb-data/power-buoy-deployment/D20220404T235301_IFCB161.roi']"
      ]
     },
     "execution_count": 25,
     "metadata": {},
     "output_type": "execute_result"
    }
   ],
   "source": [
    "fnames = sorted(glob.glob(\"/opt/ifcb-data/power-buoy-deployment/D20220404*.roi\"))\n",
    "fnames"
   ]
  },
  {
   "cell_type": "code",
   "execution_count": 26,
   "metadata": {},
   "outputs": [],
   "source": [
    "for i, fname in enumerate(fnames):\n",
    "    if i < 1000:\n",
    "        files = ifcb.open_raw(fname)\n",
    "        files.to_zip(\"/u/pdaniel/ifcb-scripts/data/{}.zip\".format(os.path.basename(os.path.splitext(fname)[0])))\n",
    "    else:\n",
    "        break"
   ]
  },
  {
   "cell_type": "markdown",
   "metadata": {},
   "source": [
    "## Look for large Files ##"
   ]
  },
  {
   "cell_type": "code",
   "execution_count": 7,
   "metadata": {},
   "outputs": [
    {
     "name": "stderr",
     "output_type": "stream",
     "text": [
      "Matplotlib created a temporary config/cache directory at /tmp/matplotlib-tt_yw4tr because the default path (/u/pdaniel/.config/matplotlib) is not a writable directory; it is highly recommended to set the MPLCONFIGDIR environment variable to a writable directory, in particular to speed up the import of Matplotlib and to better support multiprocessing.\n"
     ]
    }
   ],
   "source": [
    "import numpy as np\n",
    "import zipfile, glob\n",
    "from PIL import Image\n",
    "import pandas as pd\n",
    "from tqdm import tqdm\n",
    "import matplotlib.pyplot as plt"
   ]
  },
  {
   "cell_type": "code",
   "execution_count": 8,
   "metadata": {},
   "outputs": [
    {
     "name": "stderr",
     "output_type": "stream",
     "text": [
      "0it [00:00, ?it/s]\n"
     ]
    }
   ],
   "source": [
    "df = pd.DataFrame(columns=[\"pid\",\"size\"])\n",
    "for zip_name in tqdm(sorted(glob.glob('data/*.zip'))):\n",
    "    with zipfile.ZipFile(zip_name, \"r\") as zip_data:\n",
    "        sizes = []\n",
    "        names = []\n",
    "        content_list = zip_data.namelist()\n",
    "        for name_file in content_list:\n",
    "            if name_file.endswith('.png'):\n",
    "                img_bytes = zip_data.open(name_file)          # 1\n",
    "                img_data = Image.open(img_bytes)\n",
    "                sizes.append(img_data.size[0])\n",
    "                names.append(zip_name)\n",
    "        df = df.append(pd.DataFrame(data={\"pid\":names, \"size\":sizes}),ignore_index=True)"
   ]
  },
  {
   "cell_type": "code",
   "execution_count": 10,
   "metadata": {},
   "outputs": [
    {
     "data": {
      "text/plain": [
       "[]"
      ]
     },
     "execution_count": 10,
     "metadata": {},
     "output_type": "execute_result"
    }
   ],
   "source": [
    "glob.glob('data/*.zip')"
   ]
  },
  {
   "cell_type": "code",
   "execution_count": null,
   "metadata": {},
   "outputs": [],
   "source": [
    "df['dateTime'] = pd.to_datetime(df['pid'].apply(lambda x: x.split(\"/\")[1].split(\"_\")[0][1:]))"
   ]
  },
  {
   "cell_type": "code",
   "execution_count": null,
   "metadata": {},
   "outputs": [],
   "source": [
    "fig, ax = plt.subplots()\n",
    "df.groupby(\"dateTime\")['size'].max().plot(marker='.',lw=0,ax=ax)\n",
    "ax.set_xlim(\"20210717\",\"20210722\")\n",
    "ax.set_ylabel(\"Max Hieght per Syringe(x*y)\")\n",
    "ax.set_yscale('log')"
   ]
  },
  {
   "cell_type": "code",
   "execution_count": null,
   "metadata": {},
   "outputs": [],
   "source": []
  },
  {
   "cell_type": "code",
   "execution_count": 20,
   "metadata": {},
   "outputs": [],
   "source": [
    "fname = '/opt/ifcb-data/power-buoy-deployment/D20220409T235744_IFCB161.roi'\n",
    "files = ifcb.open_raw(fname) # creates an FilesetBin Object, this links each of the files\n",
    "files.to_zip(\"../data/D20220409T235744_IFCB161.zip\")\n",
    "z = ifcb.open_zip(\"../data/D20220409T235744_IFCB161.zip\")\n",
    "directory = ifcb.DataDirectory('/opt/ifcb-data/power-buoy-deployment/2021')"
   ]
  },
  {
   "cell_type": "code",
   "execution_count": 22,
   "metadata": {
    "scrolled": true
   },
   "outputs": [
    {
     "data": {
      "text/plain": [
       "<DataDirectory /opt/ifcb-data/power-buoy-deployment/2021>"
      ]
     },
     "execution_count": 22,
     "metadata": {},
     "output_type": "execute_result"
    }
   ],
   "source": [
    "directory"
   ]
  },
  {
   "cell_type": "code",
   "execution_count": 14,
   "metadata": {
    "scrolled": true
   },
   "outputs": [
    {
     "data": {
      "text/plain": [
       "{'context': 'SoftwareVersion: 2.0.3.0',\n",
       " 'AnalogFirmware': 45,\n",
       " 'HousekeepingFirmware': 32,\n",
       " 'sampleNumber': 200,\n",
       " 'sampleType': 'Normal',\n",
       " 'triggerCount': 65,\n",
       " 'roiCount': 64,\n",
       " 'humidity': 50.769385824368676,\n",
       " 'temperature': 20.261378652628373,\n",
       " 'runTime': 238.06401041666666,\n",
       " 'inhibitTime': 5.210275607638889,\n",
       " 'ADCFileFormat': 'trigger#, ADCtime, PMTA, PMTB, PMTC, PMTD, PeakA, PeakB, PeakC, PeakD, TimeOfFlight, GrabTimeStart, GrabTimeEnd, RoiX, RoiY, RoiWidth, RoiHeight, StartByte, ComparatorOut, StartPoint, SignalLength, Status, RunTime, InhibitTime',\n",
       " 'DAQ_MCCserialPort_DAC_MCConly': '/dev/ttyS2',\n",
       " 'auxPower1': False,\n",
       " 'autoStart': False,\n",
       " 'autoShutdown': False,\n",
       " 'HumidityAlarmThreshold(%)': 90,\n",
       " 'ValveHumidityHysteresis_DAC_MCConly': 567,\n",
       " 'FanTemperatureThreshold_DAC_MCConly': 30744,\n",
       " 'FanTemperatureHysteresis_DAC_MCConly': 123,\n",
       " 'valveDelay': 781,\n",
       " 'FlashlampControlVoltage': 3,\n",
       " 'HKTRIGGERtoFlashlampDelayTime_x434ns_DAC_MCConly': 150,\n",
       " 'FlashlampPulseLength_x434ns_DAC_MCConly': 20,\n",
       " 'CameraPulseLength_x434ns_DAC_MCConly': 500,\n",
       " 'cameraGain': 6,\n",
       " 'binarizeThreshold': 6,\n",
       " 'minimumBlobArea': 2000,\n",
       " 'blobXgrowAmount': 20,\n",
       " 'blobYgrowAmount': 10,\n",
       " 'minimumGapBewtweenAdjacentBlobs': 50,\n",
       " 'laserState': True,\n",
       " 'runningCamera': True,\n",
       " 'pump1State': True,\n",
       " 'pump2State': False,\n",
       " 'stirrer': False,\n",
       " 'viewImages': True,\n",
       " 'viewRoisOnly': True,\n",
       " 'triggerContinuous': False,\n",
       " 'continuousTriggerRate': 10,\n",
       " 'fill3newSheathState': False,\n",
       " 'PMTAtriggerThreshold_DAQ_MCConly': 0.13,\n",
       " 'PMTBtriggerThreshold_DAQ_MCConly': 0.13,\n",
       " 'PMTCtriggerThreshold_DAQ_MCConly': 0,\n",
       " 'PMTDtriggerThreshold_DAQ_MCConly': 0,\n",
       " 'ADCdataRateDAQ_MCConly': 240,\n",
       " 'integratorSettleTime': 8,\n",
       " 'PMTtriggerSelection_DAQ_MCConly': 2,\n",
       " 'altPMTtriggerSelection_DAQ_MCConly': 3,\n",
       " 'ADCPGA_DAQ_MCConly': 1,\n",
       " 'triggerAckTimeout_x34720ns_DAQ_MCConly': 21600,\n",
       " 'TimeoutForFirstFrame': 30,\n",
       " 'pulseStretchTime_x2170ns_DAQ_MCConly': 21,\n",
       " 'maximumPulseLength_x2170ns_DAQ_MCConly': 13823,\n",
       " 'hasCamera': True,\n",
       " 'liveEnvironment': False,\n",
       " 'flash': True,\n",
       " 'PMTAhighVoltage': 0.46,\n",
       " 'PMTBhighVoltage': 0.55,\n",
       " 'intervalBetweenAlternateHardwareSettings': 0,\n",
       " 'Alt_FlashlampControlVoltage': 3,\n",
       " 'pumpDriveVoltage': 14,\n",
       " 'altPMTAHighVoltage': 0.55,\n",
       " 'altPMTBHighVoltage': 0.65,\n",
       " 'altPMTATriggerThreshold_DAQ_MCConly': 0.13,\n",
       " 'altPMTBTriggerThreshold_DAQ_MCConly': 0.13,\n",
       " 'viewTriggers': True,\n",
       " 'viewGraphs': True,\n",
       " 'viewActivity': True,\n",
       " 'viewFPS': True,\n",
       " 'KloehnPort': '/dev/ttyUSB0',\n",
       " 'syringeSamplingSpeed': 20,\n",
       " 'syringeOffset': 4536,\n",
       " 'NumberSyringesToAutoRun': 200,\n",
       " 'SyringeSampleVolume': 1,\n",
       " 'altSyringeSampleVolume': 5,\n",
       " 'sampleVolume2skip': 0,\n",
       " 'syringeSize': 5,\n",
       " 'primeVolume': 3,\n",
       " 'flushVolume': 3,\n",
       " 'stepsToFullSyringe': 318354,\n",
       " 'debubbleWithSample': True,\n",
       " 'RefillAfterDebubble': True,\n",
       " 'primeSampleTube': False,\n",
       " 'backflushWithSample': False,\n",
       " 'runBeads': False,\n",
       " 'runSampleFast': False,\n",
       " 'BeadsSampleVolume': 0.5,\n",
       " 'NumberSyringesBetweenBeadsRun': 50,\n",
       " 'RunFastFactor': 5,\n",
       " 'viewSyringe': True,\n",
       " 'viewValve': True,\n",
       " 'focusMotorSmallStep_ms': 100,\n",
       " 'focusMotorLargeStep_ms': 500,\n",
       " 'laserMotorSmallStep_ms': 500,\n",
       " 'laserMotorLargeStep_ms': 10000,\n",
       " 'debubbleConeVolume': 2,\n",
       " 'debubbleNeedleVolume': 3,\n",
       " 'debubbleRefillVolume': 3.5,\n",
       " 'debubbleLeftVolume': 0.5,\n",
       " 'BleachRinseCount': 3,\n",
       " 'BleachToExhaust': False,\n",
       " 'SamplingFastSpeed': 4,\n",
       " 'imagerID': 161,\n",
       " 'DataFilePath': '/mnt/data/ifcbdata',\n",
       " 'FileComment': 'file comment',\n",
       " 'triggerThreadCount': 3,\n",
       " 'pythonBin': '/home/ifcb/ifcbenv/bin',\n",
       " 'pythonLib': '/home/ifcb/ifcbenv/lib/python{0}/site-packages',\n",
       " 'pythonVersion': 3.7,\n",
       " 'featureGeneration': False,\n",
       " 'WebBrowser': 'chromium',\n",
       " 'GPSFeed': 0,\n",
       " 'PhytoArmDataSource': 0,\n",
       " 'ServerAsAdmin': False,\n",
       " 'HostAsAdmin': False,\n",
       " 'UpdateServer': 'http://mclanelabs.dyndns.org:8082/external/update/ifcbacquire/release/'}"
      ]
     },
     "execution_count": 14,
     "metadata": {},
     "output_type": "execute_result"
    }
   ],
   "source": [
    "files.headers"
   ]
  },
  {
   "cell_type": "code",
   "execution_count": null,
   "metadata": {},
   "outputs": [],
   "source": [
    "files.to_zip(\"{}.zip\".format(os.path.basename(os.path.splitext(fname)[0]))) # This will create a zip of the .pngs from the ROI files"
   ]
  },
  {
   "cell_type": "code",
   "execution_count": 24,
   "metadata": {},
   "outputs": [
    {
     "name": "stdout",
     "output_type": "stream",
     "text": [
      "['metadata.json', 'D20220409T235744_IFCB161_headers.json', 'D20220409T235744_IFCB161.csv', 'D20220409T235744_IFCB161_00002.png', 'D20220409T235744_IFCB161_00003.png', 'D20220409T235744_IFCB161_00004.png', 'D20220409T235744_IFCB161_00005.png', 'D20220409T235744_IFCB161_00006.png', 'D20220409T235744_IFCB161_00007.png', 'D20220409T235744_IFCB161_00008.png', 'D20220409T235744_IFCB161_00009.png', 'D20220409T235744_IFCB161_00010.png', 'D20220409T235744_IFCB161_00011.png', 'D20220409T235744_IFCB161_00012.png', 'D20220409T235744_IFCB161_00013.png', 'D20220409T235744_IFCB161_00014.png', 'D20220409T235744_IFCB161_00015.png', 'D20220409T235744_IFCB161_00016.png', 'D20220409T235744_IFCB161_00017.png', 'D20220409T235744_IFCB161_00018.png', 'D20220409T235744_IFCB161_00019.png', 'D20220409T235744_IFCB161_00020.png', 'D20220409T235744_IFCB161_00021.png', 'D20220409T235744_IFCB161_00022.png', 'D20220409T235744_IFCB161_00023.png', 'D20220409T235744_IFCB161_00024.png', 'D20220409T235744_IFCB161_00025.png', 'D20220409T235744_IFCB161_00026.png', 'D20220409T235744_IFCB161_00027.png', 'D20220409T235744_IFCB161_00028.png', 'D20220409T235744_IFCB161_00029.png', 'D20220409T235744_IFCB161_00030.png', 'D20220409T235744_IFCB161_00031.png', 'D20220409T235744_IFCB161_00032.png', 'D20220409T235744_IFCB161_00033.png', 'D20220409T235744_IFCB161_00034.png', 'D20220409T235744_IFCB161_00035.png', 'D20220409T235744_IFCB161_00036.png', 'D20220409T235744_IFCB161_00037.png', 'D20220409T235744_IFCB161_00038.png', 'D20220409T235744_IFCB161_00039.png', 'D20220409T235744_IFCB161_00040.png', 'D20220409T235744_IFCB161_00041.png', 'D20220409T235744_IFCB161_00042.png', 'D20220409T235744_IFCB161_00043.png', 'D20220409T235744_IFCB161_00044.png', 'D20220409T235744_IFCB161_00045.png', 'D20220409T235744_IFCB161_00046.png', 'D20220409T235744_IFCB161_00047.png', 'D20220409T235744_IFCB161_00048.png', 'D20220409T235744_IFCB161_00049.png', 'D20220409T235744_IFCB161_00050.png', 'D20220409T235744_IFCB161_00051.png', 'D20220409T235744_IFCB161_00052.png', 'D20220409T235744_IFCB161_00053.png', 'D20220409T235744_IFCB161_00054.png', 'D20220409T235744_IFCB161_00055.png', 'D20220409T235744_IFCB161_00056.png', 'D20220409T235744_IFCB161_00057.png', 'D20220409T235744_IFCB161_00058.png', 'D20220409T235744_IFCB161_00059.png', 'D20220409T235744_IFCB161_00060.png', 'D20220409T235744_IFCB161_00061.png', 'D20220409T235744_IFCB161_00062.png', 'D20220409T235744_IFCB161_00063.png', 'D20220409T235744_IFCB161_00064.png', 'D20220409T235744_IFCB161_00065.png']\n"
     ]
    },
    {
     "ename": "NameError",
     "evalue": "name 'img_bytes' is not defined",
     "output_type": "error",
     "traceback": [
      "\u001b[0;31m---------------------------------------------------------------------------\u001b[0m",
      "\u001b[0;31mNameError\u001b[0m                                 Traceback (most recent call last)",
      "\u001b[0;32m<ipython-input-24-8f8b6ea925ea>\u001b[0m in \u001b[0;36m<module>\u001b[0;34m\u001b[0m\n\u001b[1;32m      4\u001b[0m         \u001b[0mprint\u001b[0m\u001b[0;34m(\u001b[0m\u001b[0mcontent_list\u001b[0m\u001b[0;34m)\u001b[0m\u001b[0;34m\u001b[0m\u001b[0;34m\u001b[0m\u001b[0m\n\u001b[1;32m      5\u001b[0m \u001b[0;31m#         img_bytes = zip_data.open(\"D20210723T073937_IFCB161.csv\")          # 1\u001b[0m\u001b[0;34m\u001b[0m\u001b[0;34m\u001b[0m\u001b[0;34m\u001b[0m\u001b[0m\n\u001b[0;32m----> 6\u001b[0;31m         \u001b[0mimg_data\u001b[0m \u001b[0;34m=\u001b[0m \u001b[0mImage\u001b[0m\u001b[0;34m.\u001b[0m\u001b[0mopen\u001b[0m\u001b[0;34m(\u001b[0m\u001b[0mimg_bytes\u001b[0m\u001b[0;34m)\u001b[0m\u001b[0;34m\u001b[0m\u001b[0;34m\u001b[0m\u001b[0m\n\u001b[0m",
      "\u001b[0;31mNameError\u001b[0m: name 'img_bytes' is not defined"
     ]
    }
   ],
   "source": [
    "# You can open the zip get the filenames or even open them\n",
    "with zipfile.ZipFile(\"../data/D20220409T235744_IFCB161.zip\", \"r\") as zip_data:\n",
    "        content_list = zip_data.namelist()\n",
    "        print(content_list)\n",
    "#         img_bytes = zip_data.open(\"D20210723T073937_IFCB161.csv\")          # 1\n",
    "        img_data = Image.open(img_bytes)"
   ]
  },
  {
   "cell_type": "code",
   "execution_count": null,
   "metadata": {},
   "outputs": [],
   "source": [
    "import pandas as pd\n",
    "pd.read_csv(img_bytes)"
   ]
  },
  {
   "cell_type": "code",
   "execution_count": null,
   "metadata": {},
   "outputs": [],
   "source": []
  }
 ],
 "metadata": {
  "kernelspec": {
   "display_name": "Python 3",
   "language": "python",
   "name": "python3"
  },
  "language_info": {
   "codemirror_mode": {
    "name": "ipython",
    "version": 3
   },
   "file_extension": ".py",
   "mimetype": "text/x-python",
   "name": "python",
   "nbconvert_exporter": "python",
   "pygments_lexer": "ipython3",
   "version": "3.8.8"
  }
 },
 "nbformat": 4,
 "nbformat_minor": 4
}
