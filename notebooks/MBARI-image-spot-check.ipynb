{
 "cells": [
  {
   "cell_type": "code",
   "execution_count": 1,
   "id": "0a6ba8ea-7a66-4bf5-a82f-194ad48761a9",
   "metadata": {},
   "outputs": [
    {
     "name": "stderr",
     "output_type": "stream",
     "text": [
      "Matplotlib created a temporary config/cache directory at /tmp/matplotlib-kw3iv8g_ because the default path (/u/pdaniel/.config/matplotlib) is not a writable directory; it is highly recommended to set the MPLCONFIGDIR environment variable to a writable directory, in particular to speed up the import of Matplotlib and to better support multiprocessing.\n"
     ]
    }
   ],
   "source": [
    "import tensorflow as tf\n",
    "import keras_preprocessing.image as keras_img\n",
    "import numpy as np\n",
    "import glob\n",
    "import pandas as pd\n",
    "import json\n",
    "from tqdm import tqdm\n",
    "from threading import Thread\n",
    "import matplotlib.pyplot as plt\n",
    "import matplotlib.image as mpimg\n",
    "import seaborn as sns\n",
    "import datetime as dt\n",
    "from PIL import Image\n",
    "import os\n",
    "import random"
   ]
  },
  {
   "cell_type": "code",
   "execution_count": null,
   "id": "6ba1d81d-41d8-409f-9310-2786675645f3",
   "metadata": {},
   "outputs": [],
   "source": [
    "for i in range(40):\n",
    "    rand_index = random.randint(0, len(df)+1)\n",
    "    random_fname =  sample_files[rand_index]\n",
    "    fig,ax = plt.subplots()\n",
    "    image = Image.open(random_fname).convert(\"L\")\n",
    "    arr = np.asarray(image)\n",
    "    ax.imshow(arr,cmap='gray', vmin=0, vmax=255)\n",
    "    rand_row = df.apply(lambda x: x == df.max(axis=1)).iloc[rand_index].reset_index()\n",
    "    best_guess = rand_row[rand_row[rand_index] == 1]['index'].values[0]\n",
    "    accuracy = str(round(df.iloc[rand_index][best_guess],4))\n",
    "    ax.set_title(\"Best guess:{}\\nConfidence:{}\".format(best_guess, accuracy))\n",
    "    # plt.savefig(\"/content/drive/MyDrive/ifcb-classifier/data/figures/rand_ifcb_{}.png\".format(i+1),dpi=300, box_inches='tight',transparent=False,pad_inches=.5)\n",
    "    plt.close()\n"
   ]
  }
 ],
 "metadata": {
  "kernelspec": {
   "display_name": "Python 3",
   "language": "python",
   "name": "python3"
  },
  "language_info": {
   "codemirror_mode": {
    "name": "ipython",
    "version": 3
   },
   "file_extension": ".py",
   "mimetype": "text/x-python",
   "name": "python",
   "nbconvert_exporter": "python",
   "pygments_lexer": "ipython3",
   "version": "3.8.8"
  }
 },
 "nbformat": 4,
 "nbformat_minor": 5
}
